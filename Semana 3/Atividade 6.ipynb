{
  "nbformat": 4,
  "nbformat_minor": 0,
  "metadata": {
    "colab": {
      "provenance": [],
      "authorship_tag": "ABX9TyNw3M688omiAXdJNef8rFvg",
      "include_colab_link": true
    },
    "kernelspec": {
      "name": "python3",
      "display_name": "Python 3"
    },
    "language_info": {
      "name": "python"
    }
  },
  "cells": [
    {
      "cell_type": "markdown",
      "metadata": {
        "id": "view-in-github",
        "colab_type": "text"
      },
      "source": [
        "<a href=\"https://colab.research.google.com/github/Bikehugo/Exerc-cios-Curso-Polkadot-/blob/main/Untitled9.ipynb\" target=\"_parent\"><img src=\"https://colab.research.google.com/assets/colab-badge.svg\" alt=\"Open In Colab\"/></a>"
      ]
    },
    {
      "cell_type": "code",
      "source": [
        "frase = input(\"Digite uma frase \")\n",
        "\n",
        "vogais= (\"aeiouAEIOU\")\n",
        "contador= 0\n",
        "for letra in frase:\n",
        " if letra in vogais:\n",
        "  contador +=1\n",
        "\n",
        "print(f\"A frase {frase} tem {contador} vogais\")"
      ],
      "metadata": {
        "colab": {
          "base_uri": "https://localhost:8080/"
        },
        "id": "dG8d_UbpDvAn",
        "outputId": "32db4bc6-7815-4e8f-e97e-9521bc609cf1"
      },
      "execution_count": 83,
      "outputs": [
        {
          "output_type": "stream",
          "name": "stdout",
          "text": [
            "Digite uma frase ana\n",
            "A frase ana tem 2 vogais\n"
          ]
        }
      ]
    }
  ]
}