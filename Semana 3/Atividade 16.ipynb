{
  "nbformat": 4,
  "nbformat_minor": 0,
  "metadata": {
    "colab": {
      "provenance": [],
      "authorship_tag": "ABX9TyOtetqj9wq8IMy67Oh7d0JD",
      "include_colab_link": true
    },
    "kernelspec": {
      "name": "python3",
      "display_name": "Python 3"
    },
    "language_info": {
      "name": "python"
    }
  },
  "cells": [
    {
      "cell_type": "markdown",
      "metadata": {
        "id": "view-in-github",
        "colab_type": "text"
      },
      "source": [
        "<a href=\"https://colab.research.google.com/github/Bikehugo/Exerc-cios-Curso-Polkadot-/blob/main/Untitled10.ipynb\" target=\"_parent\"><img src=\"https://colab.research.google.com/assets/colab-badge.svg\" alt=\"Open In Colab\"/></a>"
      ]
    },
    {
      "cell_type": "code",
      "source": [
        "frase = input(\"Digite uma frase:\")\n",
        "frase_invertida = frase [::-1 ]\n",
        "print(f\"A frase invertida é:{frase_invertida}\")\n",
        "\n"
      ],
      "metadata": {
        "id": "ZIQiYQjl-SbR",
        "colab": {
          "base_uri": "https://localhost:8080/"
        },
        "outputId": "642ff6fb-d938-44b8-d82a-34aa48b6600b"
      },
      "execution_count": 29,
      "outputs": [
        {
          "output_type": "stream",
          "name": "stdout",
          "text": [
            "Digite uma frase:Eu gosto de você\n",
            "A frase invertida é:êcov ed otsog uE\n"
          ]
        }
      ]
    }
  ]
}