{
  "nbformat": 4,
  "nbformat_minor": 0,
  "metadata": {
    "colab": {
      "provenance": [],
      "authorship_tag": "ABX9TyOz9sgQauJ4Y4Q/ZIVws+i0",
      "include_colab_link": true
    },
    "kernelspec": {
      "name": "python3",
      "display_name": "Python 3"
    },
    "language_info": {
      "name": "python"
    }
  },
  "cells": [
    {
      "cell_type": "markdown",
      "metadata": {
        "id": "view-in-github",
        "colab_type": "text"
      },
      "source": [
        "<a href=\"https://colab.research.google.com/github/Bikehugo/Exerc-cios-Curso-Polkadot-/blob/main/Untitled10.ipynb\" target=\"_parent\"><img src=\"https://colab.research.google.com/assets/colab-badge.svg\" alt=\"Open In Colab\"/></a>"
      ]
    },
    {
      "cell_type": "code",
      "source": [
        "n1 = float(input(\"Digite a primeira nota:\"))\n",
        "n2 = float(input(\"Digite a segunda nota:\"))\n",
        "n3 = float(input(\"Digite a terceira nota:\"))\n",
        "\n",
        "media_ponderada_de_n1_n2_n3 = (n1 * 2 + n2 * 3 + n3 * 5)/ 10\n",
        "\n",
        "print(f\"A média ponderada das notas é: {media_ponderada_de_n1_n2_n3:.2f}\")\n"
      ],
      "metadata": {
        "colab": {
          "base_uri": "https://localhost:8080/"
        },
        "id": "lI9Ulri3FiB2",
        "outputId": "bba9dc33-b823-43d9-f938-f3b134124bad"
      },
      "execution_count": 40,
      "outputs": [
        {
          "output_type": "stream",
          "name": "stdout",
          "text": [
            "Digite a primeira nota:4\n",
            "Digite a ssegunda nota:5\n",
            "Digite a terceira nota:6\n",
            "A média ponderada das notas é: 5.30\n"
          ]
        }
      ]
    }
  ]
}