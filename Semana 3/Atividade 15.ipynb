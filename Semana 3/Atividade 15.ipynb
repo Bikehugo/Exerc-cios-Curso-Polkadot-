{
  "nbformat": 4,
  "nbformat_minor": 0,
  "metadata": {
    "colab": {
      "provenance": [],
      "authorship_tag": "ABX9TyNbTDdlTt8uMHO9sB/6eKRX",
      "include_colab_link": true
    },
    "kernelspec": {
      "name": "python3",
      "display_name": "Python 3"
    },
    "language_info": {
      "name": "python"
    }
  },
  "cells": [
    {
      "cell_type": "markdown",
      "metadata": {
        "id": "view-in-github",
        "colab_type": "text"
      },
      "source": [
        "<a href=\"https://colab.research.google.com/github/Bikehugo/Exerc-cios-Curso-Polkadot-/blob/main/Untitled10.ipynb\" target=\"_parent\"><img src=\"https://colab.research.google.com/assets/colab-badge.svg\" alt=\"Open In Colab\"/></a>"
      ]
    },
    {
      "cell_type": "code",
      "source": [
        "n1 = int(input(\"Digite um número:\"))\n",
        "soma = 0\n",
        "\n",
        "for i in range(1 , n1 + 1):\n",
        "  soma += i\n",
        "\n",
        "print(f\"A soma dos primeiros {n1} números é: {soma}\")"
      ],
      "metadata": {
        "colab": {
          "base_uri": "https://localhost:8080/"
        },
        "id": "lRuKpwF126HM",
        "outputId": "ded8fd15-e493-4360-b6c9-dbd4e01794ff"
      },
      "execution_count": 26,
      "outputs": [
        {
          "output_type": "stream",
          "name": "stdout",
          "text": [
            "Digite um número:5\n",
            "A soma dos primeiros 5 números é: 15\n"
          ]
        }
      ]
    }
  ]
}