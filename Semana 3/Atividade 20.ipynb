{
  "nbformat": 4,
  "nbformat_minor": 0,
  "metadata": {
    "colab": {
      "provenance": [],
      "authorship_tag": "ABX9TyNhjybgvJbxmb3ClcTmaBMy",
      "include_colab_link": true
    },
    "kernelspec": {
      "name": "python3",
      "display_name": "Python 3"
    },
    "language_info": {
      "name": "python"
    }
  },
  "cells": [
    {
      "cell_type": "markdown",
      "metadata": {
        "id": "view-in-github",
        "colab_type": "text"
      },
      "source": [
        "<a href=\"https://colab.research.google.com/github/Bikehugo/Exerc-cios-Curso-Polkadot-/blob/main/Untitled10.ipynb\" target=\"_parent\"><img src=\"https://colab.research.google.com/assets/colab-badge.svg\" alt=\"Open In Colab\"/></a>"
      ]
    },
    {
      "cell_type": "code",
      "source": [
        "\n",
        "numeros = []\n",
        "\n",
        "\n",
        "while True:\n",
        "    entrada = input(\"Digite um número (ou '0' para finalizar): \")\n",
        "\n",
        "    if entrada.lower() == '0':\n",
        "        break\n",
        "\n",
        "    try:\n",
        "        numero = float(entrada)\n",
        "        numeros.append(numero)\n",
        "    except ValueError:\n",
        "        print(\"Entrada inválida. Por favor, digite um número válido.\")\n",
        "\n",
        "\n",
        "if numeros:\n",
        "\n",
        "    maior = max(numeros)\n",
        "    menor = min(numeros)\n",
        "    media = sum(numeros) / len(numeros)\n",
        "\n",
        "    print(f\"Maior número: {maior}\")\n",
        "    print(f\"Menor número: {menor}\")\n",
        "    print(f\"Média dos números: {media:.2f}\")\n",
        "else:\n",
        "    print(\"Nenhum número foi inserido.\")\n"
      ],
      "metadata": {
        "colab": {
          "base_uri": "https://localhost:8080/"
        },
        "id": "p7BRk3RiNZX1",
        "outputId": "0b6d41b4-6fb0-489e-e0bc-3b9c3b09b751"
      },
      "execution_count": 72,
      "outputs": [
        {
          "output_type": "stream",
          "name": "stdout",
          "text": [
            "Digite um número (ou '0' para finalizar): 34\n",
            "Digite um número (ou '0' para finalizar): 34\n",
            "Digite um número (ou '0' para finalizar): 34\n",
            "Digite um número (ou '0' para finalizar): 0\n",
            "Maior número: 34.0\n",
            "Menor número: 34.0\n",
            "Média dos números: 34.00\n"
          ]
        }
      ]
    }
  ]
}