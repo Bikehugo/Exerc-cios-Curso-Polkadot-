{
  "nbformat": 4,
  "nbformat_minor": 0,
  "metadata": {
    "colab": {
      "provenance": [],
      "authorship_tag": "ABX9TyP4tILElqgvFGSvnR5nLgjb",
      "include_colab_link": true
    },
    "kernelspec": {
      "name": "python3",
      "display_name": "Python 3"
    },
    "language_info": {
      "name": "python"
    }
  },
  "cells": [
    {
      "cell_type": "markdown",
      "metadata": {
        "id": "view-in-github",
        "colab_type": "text"
      },
      "source": [
        "<a href=\"https://colab.research.google.com/github/Bikehugo/Exerc-cios-Curso-Polkadot-/blob/main/Untitled10.ipynb\" target=\"_parent\"><img src=\"https://colab.research.google.com/assets/colab-badge.svg\" alt=\"Open In Colab\"/></a>"
      ]
    },
    {
      "cell_type": "code",
      "source": [
        "n1=int(input(\"Digite um número: \"))\n",
        "\n",
        "soma_divisores = sum(i for i in range(1, n1) if n1  % i == 0)\n",
        "\n",
        "if soma_divisores == n1:\n",
        "  print(f\"{n1} é um número perfeito \")\n",
        "else:\n",
        "    print(f\"{N1} não é número perfeito. \")\n"
      ],
      "metadata": {
        "colab": {
          "base_uri": "https://localhost:8080/"
        },
        "id": "6C9pdRdnAxJ8",
        "outputId": "64037b61-bcee-454e-9f8e-38dc2a419038"
      },
      "execution_count": 34,
      "outputs": [
        {
          "output_type": "stream",
          "name": "stdout",
          "text": [
            "Digite um número: 6\n",
            "6 é um número perfeito \n"
          ]
        }
      ]
    }
  ]
}