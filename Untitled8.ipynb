{
  "nbformat": 4,
  "nbformat_minor": 0,
  "metadata": {
    "colab": {
      "provenance": [],
      "authorship_tag": "ABX9TyMbUg6rzG1UNFFsRkotn/W2",
      "include_colab_link": true
    },
    "kernelspec": {
      "name": "python3",
      "display_name": "Python 3"
    },
    "language_info": {
      "name": "python"
    }
  },
  "cells": [
    {
      "cell_type": "markdown",
      "metadata": {
        "id": "view-in-github",
        "colab_type": "text"
      },
      "source": [
        "<a href=\"https://colab.research.google.com/github/Bikehugo/Exerc-cios-Curso-Polkadot-/blob/main/Untitled8.ipynb\" target=\"_parent\"><img src=\"https://colab.research.google.com/assets/colab-badge.svg\" alt=\"Open In Colab\"/></a>"
      ]
    },
    {
      "cell_type": "code",
      "execution_count": 8,
      "metadata": {
        "colab": {
          "base_uri": "https://localhost:8080/"
        },
        "id": "cd_n_5qzrgQL",
        "outputId": "1dd3dc20-e644-4853-accb-3242fbcd977f"
      },
      "outputs": [
        {
          "output_type": "stream",
          "name": "stdout",
          "text": [
            "Digite o número inicial do intervalo:0\n",
            "Digite o número final do intervalo:20\n",
            "Números primos entre 0 e 20: [2, 3, 5, 7, 11, 13, 17, 19]\n"
          ]
        }
      ],
      "source": [
        "def eh_primo(num):\n",
        "  if num <= 1 :\n",
        "     return False\n",
        "  for i in range(2, int(num**0.5)+1):\n",
        "      if num % i==0:\n",
        "        return False\n",
        "  return True\n",
        "\n",
        "def encontrar_primos(inicio, fim):\n",
        "    primos=[]\n",
        "    for num in range(inicio,fim +1):\n",
        "      if eh_primo(num):\n",
        "         primos.append(num)\n",
        "    return primos\n",
        "\n",
        "inicio = int(input(\"Digite o número inicial do intervalo:\"))\n",
        "fim = int(input(\"Digite o número final do intervalo:\"))\n",
        "\n",
        "primos = encontrar_primos(inicio, fim)\n",
        "\n",
        "print(f\"Números primos entre {inicio} e {fim}: {primos}\")\n"
      ]
    }
  ]
}