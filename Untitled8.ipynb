{
  "nbformat": 4,
  "nbformat_minor": 0,
  "metadata": {
    "colab": {
      "provenance": [],
      "authorship_tag": "ABX9TyNPbM9DP/+YzUjA2t5/Qbk6",
      "include_colab_link": true
    },
    "kernelspec": {
      "name": "python3",
      "display_name": "Python 3"
    },
    "language_info": {
      "name": "python"
    }
  },
  "cells": [
    {
      "cell_type": "markdown",
      "metadata": {
        "id": "view-in-github",
        "colab_type": "text"
      },
      "source": [
        "<a href=\"https://colab.research.google.com/github/Bikehugo/Exerc-cios-Curso-Polkadot-/blob/main/Untitled8.ipynb\" target=\"_parent\"><img src=\"https://colab.research.google.com/assets/colab-badge.svg\" alt=\"Open In Colab\"/></a>"
      ]
    },
    {
      "cell_type": "code",
      "source": [
        "def converter_temperatura(celsius):\n",
        "  fahrenheit = ( celsius *9/5)+ 32\n",
        "  kelvin = celsius + 273.15\n",
        "  return fahrenheit, kelvin\n",
        "\n",
        "temperatura_celsius= float(input(\"Digite a temperatura atual em celsius:\"))\n",
        "\n",
        "temperatura_fahrenheit, temperatura_kelvin = converter_temperatura(temperatura_celsius)\n",
        "\n",
        "print(temperatura_celsius, \"°C é equivalente a\",temperatura_fahrenheit, \"e\",temperatura_kelvin,\"°F\" )\n"
      ],
      "metadata": {
        "colab": {
          "base_uri": "https://localhost:8080/"
        },
        "id": "HyqZjKDAkgg4",
        "outputId": "00d54643-11d7-4297-d8b8-a912efedcfb6"
      },
      "execution_count": 20,
      "outputs": [
        {
          "output_type": "stream",
          "name": "stdout",
          "text": [
            "Digite a temperatura atual em celsius:12\n",
            "12.0 °C é equivalente a 53.6 e 285.15 °F\n"
          ]
        }
      ]
    }
  ]
}