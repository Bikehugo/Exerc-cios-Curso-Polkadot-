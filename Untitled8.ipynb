{
  "nbformat": 4,
  "nbformat_minor": 0,
  "metadata": {
    "colab": {
      "provenance": [],
      "authorship_tag": "ABX9TyOvUoXUIv5ImzZonXsf8iJl",
      "include_colab_link": true
    },
    "kernelspec": {
      "name": "python3",
      "display_name": "Python 3"
    },
    "language_info": {
      "name": "python"
    }
  },
  "cells": [
    {
      "cell_type": "markdown",
      "metadata": {
        "id": "view-in-github",
        "colab_type": "text"
      },
      "source": [
        "<a href=\"https://colab.research.google.com/github/Bikehugo/Exerc-cios-Curso-Polkadot-/blob/main/Untitled8.ipynb\" target=\"_parent\"><img src=\"https://colab.research.google.com/assets/colab-badge.svg\" alt=\"Open In Colab\"/></a>"
      ]
    },
    {
      "cell_type": "code",
      "source": [
        "\n",
        "def calcular_fatorial(n):\n",
        "\n",
        "    if n == 0 or n == 1:\n",
        "\n",
        "        return 1\n",
        "\n",
        "    fatorial=1\n",
        "\n",
        "    for i in range(2, n +1):\n",
        "\n",
        "        fatorial *=i\n",
        "\n",
        "    return fatorial\n",
        "\n",
        "numero = int(input(\"Digite um número para calcular o fatorial:\"))\n",
        "\n",
        "\n",
        "resultado = calcular_fatorial(numero)\n",
        "\n",
        "print(\"O fatorial de\", numero, \"é\", resultado)\n",
        "\n",
        "\n"
      ],
      "metadata": {
        "colab": {
          "base_uri": "https://localhost:8080/"
        },
        "id": "Sc1H6uxHZwRA",
        "outputId": "bcf927f4-6e00-4fd9-d94a-09f311fd08cb"
      },
      "execution_count": 15,
      "outputs": [
        {
          "output_type": "stream",
          "name": "stdout",
          "text": [
            "Digite um número para calcular o fatorial:5\n",
            "O fatorial de 5 é 120\n"
          ]
        }
      ]
    }
  ]
}