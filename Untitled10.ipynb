{
  "nbformat": 4,
  "nbformat_minor": 0,
  "metadata": {
    "colab": {
      "provenance": [],
      "authorship_tag": "ABX9TyMZrrzk5H6l+tpWDSi6h+7c",
      "include_colab_link": true
    },
    "kernelspec": {
      "name": "python3",
      "display_name": "Python 3"
    },
    "language_info": {
      "name": "python"
    }
  },
  "cells": [
    {
      "cell_type": "markdown",
      "metadata": {
        "id": "view-in-github",
        "colab_type": "text"
      },
      "source": [
        "<a href=\"https://colab.research.google.com/github/Bikehugo/Exerc-cios-Curso-Polkadot-/blob/main/Untitled10.ipynb\" target=\"_parent\"><img src=\"https://colab.research.google.com/assets/colab-badge.svg\" alt=\"Open In Colab\"/></a>"
      ]
    },
    {
      "cell_type": "code",
      "source": [
        "frase = input(\"Digite uma frase para saber quantas palavras há nela:\")\n",
        "\n",
        "palavras_n = len(frase.split())\n",
        "print(f\"Nessa frase há {palavras_n} palavras\")\n",
        "\n"
      ],
      "metadata": {
        "colab": {
          "base_uri": "https://localhost:8080/"
        },
        "id": "nP3hmXKpDScG",
        "outputId": "fe0e6bde-4ca1-477a-896c-2521433c39dc"
      },
      "execution_count": 39,
      "outputs": [
        {
          "output_type": "stream",
          "name": "stdout",
          "text": [
            "Digite uma frase para saber quantas palavras há nela:Hoje eu preciso ouvir qualquer palavra sua...\n",
            "Nessa frase há 7 palavras\n"
          ]
        }
      ]
    }
  ]
}