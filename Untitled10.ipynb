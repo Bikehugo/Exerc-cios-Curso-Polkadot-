{
  "nbformat": 4,
  "nbformat_minor": 0,
  "metadata": {
    "colab": {
      "provenance": [],
      "authorship_tag": "ABX9TyOQWtZ2hHh1Ufea5ya+iF8a",
      "include_colab_link": true
    },
    "kernelspec": {
      "name": "python3",
      "display_name": "Python 3"
    },
    "language_info": {
      "name": "python"
    }
  },
  "cells": [
    {
      "cell_type": "markdown",
      "metadata": {
        "id": "view-in-github",
        "colab_type": "text"
      },
      "source": [
        "<a href=\"https://colab.research.google.com/github/Bikehugo/Exerc-cios-Curso-Polkadot-/blob/main/Untitled10.ipynb\" target=\"_parent\"><img src=\"https://colab.research.google.com/assets/colab-badge.svg\" alt=\"Open In Colab\"/></a>"
      ]
    },
    {
      "cell_type": "code",
      "source": [
        "n1=float(input(\"Digite o primeiro número: \"))\n",
        "n2=float(input(\"Digite o segundo número: \" ))\n",
        "operação=input(\"Escolha qual operação (+,-,*,/):\")\n",
        "if operação == \"+\":\n",
        "  resultado =  n1 + n2\n",
        "if operação == \"-\":\n",
        "  resultado = n1-n2\n",
        "if operação ==\"*\":\n",
        "  resultado = n1*n2\n",
        "if operação == \"/\":\n",
        " resultado = n1/n2\n",
        "\n",
        "print(f\"Resultado: {resultado}\")\n",
        "\n",
        "\n",
        "\n",
        "\n"
      ],
      "metadata": {
        "colab": {
          "base_uri": "https://localhost:8080/"
        },
        "id": "7RCyXWGQyZ99",
        "outputId": "754f3d21-5710-42dd-e796-e855063f0f55"
      },
      "execution_count": 18,
      "outputs": [
        {
          "output_type": "stream",
          "name": "stdout",
          "text": [
            "Digite o primeiro número: 4\n",
            "Digite o segundo número: 4\n",
            "Escolha qual operação (+,-,*,/):/\n",
            "Resultado: 1.0\n"
          ]
        }
      ]
    }
  ]
}