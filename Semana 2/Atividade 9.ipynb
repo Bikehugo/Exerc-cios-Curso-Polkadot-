{
  "nbformat": 4,
  "nbformat_minor": 0,
  "metadata": {
    "colab": {
      "provenance": [],
      "authorship_tag": "ABX9TyNgkLyZRiRXYTErllQGLbX3",
      "include_colab_link": true
    },
    "kernelspec": {
      "name": "python3",
      "display_name": "Python 3"
    },
    "language_info": {
      "name": "python"
    }
  },
  "cells": [
    {
      "cell_type": "markdown",
      "metadata": {
        "id": "view-in-github",
        "colab_type": "text"
      },
      "source": [
        "<a href=\"https://colab.research.google.com/github/Bikehugo/Exerc-cios-Curso-Polkadot-/blob/main/Untitled7.ipynb\" target=\"_parent\"><img src=\"https://colab.research.google.com/assets/colab-badge.svg\" alt=\"Open In Colab\"/></a>"
      ]
    },
    {
      "cell_type": "code",
      "source": [
        "frase = input(\"Digite uma frase:\")\n",
        "letra = input(\"Digite uma letra:\")\n",
        "contagem= frase.count(letra)\n",
        "print(\"A letra:\", letra, \"aparece\", contagem, \"vezes na frase digitada\" )"
      ],
      "metadata": {
        "colab": {
          "base_uri": "https://localhost:8080/"
        },
        "id": "pFMXa9nwE0HN",
        "outputId": "bc4ef470-bea7-45de-8242-4ae166a26586"
      },
      "execution_count": 178,
      "outputs": [
        {
          "output_type": "stream",
          "name": "stdout",
          "text": [
            "Digite uma frase:Apenas o estudo mudará nossas vidas.\n",
            "Digite uma letra:a\n",
            "A letra: a aparece 4 vezes na frase digitada\n"
          ]
        }
      ]
    }
  ]
}