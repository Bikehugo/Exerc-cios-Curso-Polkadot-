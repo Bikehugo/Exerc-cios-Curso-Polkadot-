{
  "nbformat": 4,
  "nbformat_minor": 0,
  "metadata": {
    "colab": {
      "provenance": [],
      "authorship_tag": "ABX9TyPJk6dM9IsecZuiE0Gk06Mb",
      "include_colab_link": true
    },
    "kernelspec": {
      "name": "python3",
      "display_name": "Python 3"
    },
    "language_info": {
      "name": "python"
    }
  },
  "cells": [
    {
      "cell_type": "markdown",
      "metadata": {
        "id": "view-in-github",
        "colab_type": "text"
      },
      "source": [
        "<a href=\"https://colab.research.google.com/github/Bikehugo/Exerc-cios-Curso-Polkadot-/blob/main/Untitled6.ipynb\" target=\"_parent\"><img src=\"https://colab.research.google.com/assets/colab-badge.svg\" alt=\"Open In Colab\"/></a>"
      ]
    },
    {
      "cell_type": "code",
      "source": [
        "\n",
        "\n",
        "\n",
        "\n",
        "A= int(input(\"Digite o primeiro número:\"))\n",
        "\n",
        "B= int(input(\"Digite o segundo número:\"))\n",
        "\n",
        "soma = A + B\n",
        "\n",
        "print(\"Soma:\", soma)\n",
        "\n",
        "subtração = A - B\n",
        "print(\"subtração:\",subtração)\n",
        "\n",
        "produto = A * B\n",
        "\n",
        "print(\"produto:\", produto)\n",
        "\n",
        "divisão = A / B\n",
        "\n",
        "print(\"divisão:\", divisão)\n",
        "\n",
        "\n",
        "\n",
        "\n"
      ],
      "metadata": {
        "colab": {
          "base_uri": "https://localhost:8080/"
        },
        "id": "8ASQ-Yn1C0KZ",
        "outputId": "da33b0c8-6a3d-4de6-f8de-c14530579fd4"
      },
      "execution_count": 51,
      "outputs": [
        {
          "output_type": "stream",
          "name": "stdout",
          "text": [
            "Digite o primeiro número:9\n",
            "Digite o segundo número:3\n",
            "Soma: 12\n",
            "subtração: 6\n",
            "produto: 27\n",
            "divisão: 3.0\n"
          ]
        }
      ]
    }
  ]
}