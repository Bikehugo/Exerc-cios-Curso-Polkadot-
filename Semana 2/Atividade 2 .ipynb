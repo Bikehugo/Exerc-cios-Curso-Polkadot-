{
  "nbformat": 4,
  "nbformat_minor": 0,
  "metadata": {
    "colab": {
      "provenance": [],
      "authorship_tag": "ABX9TyNiWsq6ZlAldNJIyQEWNbao",
      "include_colab_link": true
    },
    "kernelspec": {
      "name": "python3",
      "display_name": "Python 3"
    },
    "language_info": {
      "name": "python"
    }
  },
  "cells": [
    {
      "cell_type": "markdown",
      "metadata": {
        "id": "view-in-github",
        "colab_type": "text"
      },
      "source": [
        "<a href=\"https://colab.research.google.com/github/Bikehugo/Exerc-cios-Curso-Polkadot-/blob/main/Untitled6.ipynb\" target=\"_parent\"><img src=\"https://colab.research.google.com/assets/colab-badge.svg\" alt=\"Open In Colab\"/></a>"
      ]
    },
    {
      "cell_type": "code",
      "source": [
        "filme = input(\"Qual é seu filme favorito?\")\n",
        "ano = input(\"Qual foi o ano do lançamento desse filme?\")\n",
        "print(\"Muito bem, agora eu sei que seu filme preferido é\" + filme + \"! e que ele foi lançado em\" +ano)"
      ],
      "metadata": {
        "colab": {
          "base_uri": "https://localhost:8080/"
        },
        "id": "CwhQndSF_APY",
        "outputId": "e68065a2-e0e2-468f-fd02-5a4681c4b774"
      },
      "execution_count": 9,
      "outputs": [
        {
          "output_type": "stream",
          "name": "stdout",
          "text": [
            "Qual é seu filme favorito? o resgate do soldado ryan\n",
            "Qual foi o ano do lançamento desse filme? 1999\n",
            "Muito bem, agora eu sei que seu filme preferido é o resgate do soldado ryan! e que ele foi lançado em 1999\n"
          ]
        }
      ]
    }
  ]
}