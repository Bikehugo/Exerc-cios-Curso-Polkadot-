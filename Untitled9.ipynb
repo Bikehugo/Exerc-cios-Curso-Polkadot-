{
  "nbformat": 4,
  "nbformat_minor": 0,
  "metadata": {
    "colab": {
      "provenance": [],
      "authorship_tag": "ABX9TyM8hY7JXE9PcsA4Af4Dji/n",
      "include_colab_link": true
    },
    "kernelspec": {
      "name": "python3",
      "display_name": "Python 3"
    },
    "language_info": {
      "name": "python"
    }
  },
  "cells": [
    {
      "cell_type": "markdown",
      "metadata": {
        "id": "view-in-github",
        "colab_type": "text"
      },
      "source": [
        "<a href=\"https://colab.research.google.com/github/Bikehugo/Exerc-cios-Curso-Polkadot-/blob/main/Untitled9.ipynb\" target=\"_parent\"><img src=\"https://colab.research.google.com/assets/colab-badge.svg\" alt=\"Open In Colab\"/></a>"
      ]
    },
    {
      "cell_type": "code",
      "source": [
        "n1= int(input(\"Digite o primeiro número:\"))\n",
        "n2= int(input(\"Digite o segundo npumero:\"))\n",
        "n3= int(input(\"Digite o terceiro número:\"))\n",
        "numeros=[n1,n2,n3]\n",
        "\n",
        "numeros.sort()\n",
        "print(numeros)\n",
        "\n"
      ],
      "metadata": {
        "colab": {
          "base_uri": "https://localhost:8080/"
        },
        "id": "33LbY7fToapV",
        "outputId": "e566e68d-b60a-42bc-d877-5a928e42c1d3"
      },
      "execution_count": 109,
      "outputs": [
        {
          "output_type": "stream",
          "name": "stdout",
          "text": [
            "Digite o primeiro número:4\n",
            "Digite o segundo npumero:6\n",
            "Digite o terceiro número:7\n",
            "[4, 6, 7]\n"
          ]
        }
      ]
    }
  ]
}