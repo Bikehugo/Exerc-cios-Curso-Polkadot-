{
  "nbformat": 4,
  "nbformat_minor": 0,
  "metadata": {
    "colab": {
      "provenance": [],
      "authorship_tag": "ABX9TyOiwb+K/MnC6nYNaeGvjEb6",
      "include_colab_link": true
    },
    "kernelspec": {
      "name": "python3",
      "display_name": "Python 3"
    },
    "language_info": {
      "name": "python"
    }
  },
  "cells": [
    {
      "cell_type": "markdown",
      "metadata": {
        "id": "view-in-github",
        "colab_type": "text"
      },
      "source": [
        "<a href=\"https://colab.research.google.com/github/Bikehugo/Exerc-cios-Curso-Polkadot-/blob/main/Untitled9.ipynb\" target=\"_parent\"><img src=\"https://colab.research.google.com/assets/colab-badge.svg\" alt=\"Open In Colab\"/></a>"
      ]
    },
    {
      "cell_type": "code",
      "source": [
        "import random\n",
        "\n",
        "numero_secreto = random.randint(1, 100)\n",
        "\n",
        "print(\"Olá,De 1 a 100, qual o número que agora estou pensando? sejá rápidoo.\")\n",
        "\n",
        "while True:\n",
        "\n",
        "    tentativa=int(input(\"Digite um número:\"))\n",
        "    if tentativa < numero_secreto:\n",
        "     print(\"O número é maior, tente novamente\")\n",
        "    elif tentativa > numero_secreto:\n",
        "     print(\"O número é menor, tente novamente\")\n",
        "\n",
        "    else:\n",
        "     print(\"Muito bem , você advinho o número que estou pensando!!!!\")\n",
        "     break\n"
      ],
      "metadata": {
        "colab": {
          "base_uri": "https://localhost:8080/"
        },
        "id": "PhInbBVBy-kp",
        "outputId": "e6444a0e-9848-4c93-bd68-ab092b0be073"
      },
      "execution_count": 156,
      "outputs": [
        {
          "output_type": "stream",
          "name": "stdout",
          "text": [
            "Olá,De 1 a 100, qual o número que agora estou pensando? sejá rápidoo.\n",
            "Digite um número:10\n",
            "O número é maior, tente novamente\n",
            "Digite um número:14\n",
            "O número é maior, tente novamente\n",
            "Digite um número:56\n",
            "O número é maior, tente novamente\n",
            "Digite um número:99\n",
            "O número é menor, tente novamente\n",
            "Digite um número:97\n",
            "O número é menor, tente novamente\n",
            "Digite um número:23\n",
            "O número é maior, tente novamente\n",
            "Digite um número:45\n",
            "O número é maior, tente novamente\n",
            "Digite um número:66\n",
            "O número é maior, tente novamente\n",
            "Digite um número:67\n",
            "O número é maior, tente novamente\n",
            "Digite um número:77\n",
            "O número é maior, tente novamente\n",
            "Digite um número:88\n",
            "Muito bem , você advinho o número que estou pensando!!!!\n"
          ]
        }
      ]
    }
  ]
}