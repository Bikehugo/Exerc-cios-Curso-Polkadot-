{
  "nbformat": 4,
  "nbformat_minor": 0,
  "metadata": {
    "colab": {
      "provenance": [],
      "authorship_tag": "ABX9TyP/NljxLffisUTilABUy3WA",
      "include_colab_link": true
    },
    "kernelspec": {
      "name": "python3",
      "display_name": "Python 3"
    },
    "language_info": {
      "name": "python"
    }
  },
  "cells": [
    {
      "cell_type": "markdown",
      "metadata": {
        "id": "view-in-github",
        "colab_type": "text"
      },
      "source": [
        "<a href=\"https://colab.research.google.com/github/Bikehugo/Exerc-cios-Curso-Polkadot-/blob/main/Untitled9.ipynb\" target=\"_parent\"><img src=\"https://colab.research.google.com/assets/colab-badge.svg\" alt=\"Open In Colab\"/></a>"
      ]
    },
    {
      "cell_type": "code",
      "source": [
        "notas = []\n",
        "nota = 0\n",
        "\n",
        "while nota !=1:\n",
        "  nota = float(input(\"Digite uma nota (ou -1 para finalizar): \"))\n",
        "  if nota != -1:\n",
        "    notas.append(nota)\n",
        "\n",
        "\n",
        "if notas:\n",
        "  media = sum(notas)/ len(notas)\n",
        "  print(f\"A médias das notas é:{media:.2f}\")\n",
        "else:\n",
        "  print(\"Nenhuma nota válida foi inserida\")"
      ],
      "metadata": {
        "id": "UZAUEs4AeE1L"
      },
      "execution_count": null,
      "outputs": []
    }
  ]
}