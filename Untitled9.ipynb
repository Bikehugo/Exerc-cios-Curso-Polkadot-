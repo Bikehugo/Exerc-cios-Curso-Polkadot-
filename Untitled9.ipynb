{
  "nbformat": 4,
  "nbformat_minor": 0,
  "metadata": {
    "colab": {
      "provenance": [],
      "authorship_tag": "ABX9TyOPDgFvT1m1e1pRURyXr4LD",
      "include_colab_link": true
    },
    "kernelspec": {
      "name": "python3",
      "display_name": "Python 3"
    },
    "language_info": {
      "name": "python"
    }
  },
  "cells": [
    {
      "cell_type": "markdown",
      "metadata": {
        "id": "view-in-github",
        "colab_type": "text"
      },
      "source": [
        "<a href=\"https://colab.research.google.com/github/Bikehugo/Exerc-cios-Curso-Polkadot-/blob/main/Untitled9.ipynb\" target=\"_parent\"><img src=\"https://colab.research.google.com/assets/colab-badge.svg\" alt=\"Open In Colab\"/></a>"
      ]
    },
    {
      "cell_type": "code",
      "source": [
        "def eh_palindromo(texto):\n",
        " texto = texto.replace(\" \",\" \").lower()\n",
        " return texto == texto[::-1]\n",
        "entrada=input(\"Digite uma palavra ou uma frase:\")\n",
        "if eh_palindromo(entrada):\n",
        " print(f'\"{entrada}\" é um palíndromo')\n",
        "else:\n",
        " print(f'\"{entrada}\" não é um palíndromo')\n",
        "\n",
        "\n",
        "\n",
        "\n",
        "\n",
        "\n"
      ],
      "metadata": {
        "colab": {
          "base_uri": "https://localhost:8080/"
        },
        "id": "TPYNV3ke2pTj",
        "outputId": "9f12dbd6-00e4-4045-be4b-77b9ecc3c43a"
      },
      "execution_count": 53,
      "outputs": [
        {
          "output_type": "stream",
          "name": "stdout",
          "text": [
            "Digite uma palavra ou uma frase:ana\n",
            "\"ana\" é um palíndromo\n"
          ]
        }
      ]
    }
  ]
}