{
  "nbformat": 4,
  "nbformat_minor": 0,
  "metadata": {
    "colab": {
      "provenance": [],
      "authorship_tag": "ABX9TyMZDRJaV3x2fP8Tv70DDoMg",
      "include_colab_link": true
    },
    "kernelspec": {
      "name": "python3",
      "display_name": "Python 3"
    },
    "language_info": {
      "name": "python"
    }
  },
  "cells": [
    {
      "cell_type": "markdown",
      "metadata": {
        "id": "view-in-github",
        "colab_type": "text"
      },
      "source": [
        "<a href=\"https://colab.research.google.com/github/Bikehugo/Exerc-cios-Curso-Polkadot-/blob/main/Untitled11.ipynb\" target=\"_parent\"><img src=\"https://colab.research.google.com/assets/colab-badge.svg\" alt=\"Open In Colab\"/></a>"
      ]
    },
    {
      "cell_type": "code",
      "execution_count": 16,
      "metadata": {
        "colab": {
          "base_uri": "https://localhost:8080/"
        },
        "id": "HDHn-g4ExVgn",
        "outputId": "9b2cbca2-f0d8-4760-96a3-85a4038b5619"
      },
      "outputs": [
        {
          "output_type": "stream",
          "name": "stdout",
          "text": [
            "Digite um número:1\n",
            "Digite o segundo número:10\n",
            "O valor é:  3\n"
          ]
        }
      ],
      "source": [
        "n1 = int(input(\"Digite um número:\"))\n",
        "n2 = int(input(\"Digite o segundo número:\"))\n",
        "total = 0\n",
        "for i in range(n1, n2 + 1):\n",
        "  if i % 3 == 0 and i % 5 == 0:\n",
        "    continue\n",
        "  elif i % 3 ==0 :\n",
        "    total +=1\n",
        "  elif 1 % 5 ==0 :\n",
        "    total-=1\n",
        "print(\"O valor é: \" , total)\n",
        "\n",
        "\n",
        "\n",
        "\n"
      ]
    }
  ]
}