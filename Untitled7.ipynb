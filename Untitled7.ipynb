{
  "nbformat": 4,
  "nbformat_minor": 0,
  "metadata": {
    "colab": {
      "provenance": [],
      "authorship_tag": "ABX9TyMkQpL5vaq0Lv4tg9tjee95",
      "include_colab_link": true
    },
    "kernelspec": {
      "name": "python3",
      "display_name": "Python 3"
    },
    "language_info": {
      "name": "python"
    }
  },
  "cells": [
    {
      "cell_type": "markdown",
      "metadata": {
        "id": "view-in-github",
        "colab_type": "text"
      },
      "source": [
        "<a href=\"https://colab.research.google.com/github/Bikehugo/Exerc-cios-Curso-Polkadot-/blob/main/Untitled7.ipynb\" target=\"_parent\"><img src=\"https://colab.research.google.com/assets/colab-badge.svg\" alt=\"Open In Colab\"/></a>"
      ]
    },
    {
      "cell_type": "code",
      "execution_count": 29,
      "metadata": {
        "colab": {
          "base_uri": "https://localhost:8080/"
        },
        "id": "shprSJoo_VqH",
        "outputId": "2815d263-3bf5-41a2-cb79-cac5b2c18172"
      },
      "outputs": [
        {
          "output_type": "stream",
          "name": "stdout",
          "text": [
            "Digite a temperatura atual:19\n",
            "No momento o dia estar agradável\n"
          ]
        }
      ],
      "source": [
        "temperatura=int(input(\"Digite a temperatura atual:\"))\n",
        "\n",
        "\n",
        "\n",
        "if temperatura >30:\n",
        "\n",
        "   print(\" No momento o dia estar quente\")\n",
        "\n",
        "elif temperatura < 15:\n",
        "   print(\"No  momento o dia estar frio\")\n",
        "\n",
        "else:\n",
        "\n",
        "  print(\"No momento o dia estar agradável\")\n",
        "\n",
        "\n",
        "\n",
        "\n",
        "\n",
        "\n",
        "\n",
        "\n",
        "\n",
        "\n",
        "\n"
      ]
    }
  ]
}