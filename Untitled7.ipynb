{
  "nbformat": 4,
  "nbformat_minor": 0,
  "metadata": {
    "colab": {
      "provenance": [],
      "authorship_tag": "ABX9TyMq9Xc3pnRLViYgmtJ+2chI",
      "include_colab_link": true
    },
    "kernelspec": {
      "name": "python3",
      "display_name": "Python 3"
    },
    "language_info": {
      "name": "python"
    }
  },
  "cells": [
    {
      "cell_type": "markdown",
      "metadata": {
        "id": "view-in-github",
        "colab_type": "text"
      },
      "source": [
        "<a href=\"https://colab.research.google.com/github/Bikehugo/Exerc-cios-Curso-Polkadot-/blob/main/Untitled7.ipynb\" target=\"_parent\"><img src=\"https://colab.research.google.com/assets/colab-badge.svg\" alt=\"Open In Colab\"/></a>"
      ]
    },
    {
      "cell_type": "code",
      "source": [
        "soma = 0\n",
        "while True:\n",
        "\n",
        "    numero = int(input(\"Digite um número ( ou 0 para sair):\"))\n",
        "\n",
        "    if numero == 0:\n",
        "        break\n",
        "    soma += numero\n",
        "\n",
        "print(\"A soma dos números digitados é:\",soma)"
      ],
      "metadata": {
        "colab": {
          "base_uri": "https://localhost:8080/"
        },
        "id": "l9lkd33O_FvP",
        "outputId": "bd8cff21-866e-4110-d972-6fd086ae1899"
      },
      "execution_count": 149,
      "outputs": [
        {
          "output_type": "stream",
          "name": "stdout",
          "text": [
            "Digite um número ( ou 0 para sair):3\n",
            "Digite um número ( ou 0 para sair):2\n",
            "Digite um número ( ou 0 para sair):0\n",
            "A soma dos números digitados é: 5\n"
          ]
        }
      ]
    }
  ]
}