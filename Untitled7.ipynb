{
  "nbformat": 4,
  "nbformat_minor": 0,
  "metadata": {
    "colab": {
      "provenance": [],
      "authorship_tag": "ABX9TyOjcR/drPRe6nSc2lRhG04I",
      "include_colab_link": true
    },
    "kernelspec": {
      "name": "python3",
      "display_name": "Python 3"
    },
    "language_info": {
      "name": "python"
    }
  },
  "cells": [
    {
      "cell_type": "markdown",
      "metadata": {
        "id": "view-in-github",
        "colab_type": "text"
      },
      "source": [
        "<a href=\"https://colab.research.google.com/github/Bikehugo/Exerc-cios-Curso-Polkadot-/blob/main/Untitled7.ipynb\" target=\"_parent\"><img src=\"https://colab.research.google.com/assets/colab-badge.svg\" alt=\"Open In Colab\"/></a>"
      ]
    },
    {
      "cell_type": "code",
      "source": [
        "frutas = [\"maçã\", \"banana\", \"laranja\"]\n",
        "frutas.append(input(\"Adicione aqui:\"))\n",
        "for fruta in frutas:\n",
        "  print(\"Produto:\", fruta)\n"
      ],
      "metadata": {
        "colab": {
          "base_uri": "https://localhost:8080/"
        },
        "id": "5zjlYnEezVS2",
        "outputId": "93c4686d-df03-43f4-fcad-177963c77587"
      },
      "execution_count": 119,
      "outputs": [
        {
          "output_type": "stream",
          "name": "stdout",
          "text": [
            "Adicione aqui:macarrão, carne ,suco\n",
            "Produto: maçã\n",
            "Produto: banana\n",
            "Produto: laranja\n",
            "Produto: macarrão, carne ,suco\n"
          ]
        }
      ]
    }
  ]
}