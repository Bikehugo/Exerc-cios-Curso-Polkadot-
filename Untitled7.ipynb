{
  "nbformat": 4,
  "nbformat_minor": 0,
  "metadata": {
    "colab": {
      "provenance": [],
      "authorship_tag": "ABX9TyPWarVX7gBM2TnjW01LkHuF",
      "include_colab_link": true
    },
    "kernelspec": {
      "name": "python3",
      "display_name": "Python 3"
    },
    "language_info": {
      "name": "python"
    }
  },
  "cells": [
    {
      "cell_type": "markdown",
      "metadata": {
        "id": "view-in-github",
        "colab_type": "text"
      },
      "source": [
        "<a href=\"https://colab.research.google.com/github/Bikehugo/Exerc-cios-Curso-Polkadot-/blob/main/Untitled7.ipynb\" target=\"_parent\"><img src=\"https://colab.research.google.com/assets/colab-badge.svg\" alt=\"Open In Colab\"/></a>"
      ]
    },
    {
      "cell_type": "code",
      "source": [
        "frase = input(\"Digite uma frase:\")\n",
        "letra = input(\"Digite uma letra:\")\n",
        "contagem= frase.count(letra)\n",
        "print(\"A letra:\", letra, \"aparece\", contagem, \"na frase digitada\" )"
      ],
      "metadata": {
        "colab": {
          "base_uri": "https://localhost:8080/"
        },
        "id": "pFMXa9nwE0HN",
        "outputId": "75f500a7-e0a1-42dc-b5df-45fccb5735ee"
      },
      "execution_count": 176,
      "outputs": [
        {
          "output_type": "stream",
          "name": "stdout",
          "text": [
            "Digite uma frase:Apenas os estudo mudará nossas vidas.\n",
            "Digite uma letra:a\n",
            "A letra: a aparece 4 na frase digitada\n"
          ]
        }
      ]
    }
  ]
}