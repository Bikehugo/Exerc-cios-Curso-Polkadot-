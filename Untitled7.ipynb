{
  "nbformat": 4,
  "nbformat_minor": 0,
  "metadata": {
    "colab": {
      "provenance": [],
      "authorship_tag": "ABX9TyOJvdGy3K2gCsNoMDy3dwe2",
      "include_colab_link": true
    },
    "kernelspec": {
      "name": "python3",
      "display_name": "Python 3"
    },
    "language_info": {
      "name": "python"
    }
  },
  "cells": [
    {
      "cell_type": "markdown",
      "metadata": {
        "id": "view-in-github",
        "colab_type": "text"
      },
      "source": [
        "<a href=\"https://colab.research.google.com/github/Bikehugo/Exerc-cios-Curso-Polkadot-/blob/main/Untitled7.ipynb\" target=\"_parent\"><img src=\"https://colab.research.google.com/assets/colab-badge.svg\" alt=\"Open In Colab\"/></a>"
      ]
    },
    {
      "cell_type": "code",
      "source": [
        "soma = 0\n",
        "\n",
        "while True:\n",
        "\n",
        "    numero = int(input(\"Digite um número ( ou 0 para sair):\"))\n",
        "\n",
        "    if numero == 0:\n",
        "        break\n",
        "    soma += numero\n",
        "\n",
        "print(f\"A soma dos números digitados é: {soma}\")\n",
        "\n",
        "\n",
        "\n",
        "\n",
        ""
      ],
      "metadata": {
        "colab": {
          "base_uri": "https://localhost:8080/"
        },
        "id": "KEO0ptC1upNm",
        "outputId": "ebb32d15-7b96-42e0-f593-0507604474bb"
      },
      "execution_count": 106,
      "outputs": [
        {
          "output_type": "stream",
          "name": "stdout",
          "text": [
            "Digite um número ( ou 0 para sair):2\n",
            "Digite um número ( ou 0 para sair):2\n",
            "Digite um número ( ou 0 para sair):0\n",
            "A soma dos números digitados é: 4\n"
          ]
        }
      ]
    }
  ]
}